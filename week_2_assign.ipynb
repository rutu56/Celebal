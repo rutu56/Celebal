{
  "nbformat": 4,
  "nbformat_minor": 0,
  "metadata": {
    "colab": {
      "name": "week 2 assign.ipynb",
      "provenance": [],
      "collapsed_sections": [],
      "authorship_tag": "ABX9TyMeNZKej0+k7utSQvF6N344",
      "include_colab_link": true
    },
    "kernelspec": {
      "name": "python3",
      "display_name": "Python 3"
    },
    "language_info": {
      "name": "python"
    }
  },
  "cells": [
    {
      "cell_type": "markdown",
      "metadata": {
        "id": "view-in-github",
        "colab_type": "text"
      },
      "source": [
        "<a href=\"https://colab.research.google.com/github/rutu56/Celebal/blob/main/week_2_assign.ipynb\" target=\"_parent\"><img src=\"https://colab.research.google.com/assets/colab-badge.svg\" alt=\"Open In Colab\"/></a>"
      ]
    },
    {
      "cell_type": "markdown",
      "source": [
        "Task 1 (EXCEPTIONS)\n",
        "\n",
        "You are given two values a and b.\n",
        "Perform integer division and print a/b."
      ],
      "metadata": {
        "id": "iJZNOFhQ6QKo"
      }
    },
    {
      "cell_type": "code",
      "source": [
        "for i in range(int(input())):\n",
        "    try:\n",
        "        a,b=map(int,input().split())\n",
        "        print(a//b)\n",
        "    except Exception as e:\n",
        "        print(\"Error Code:\",e)    "
      ],
      "metadata": {
        "id": "NkD0jIQX8L2u"
      },
      "execution_count": null,
      "outputs": []
    },
    {
      "cell_type": "markdown",
      "source": [
        "Task 2 (COLLECTION.ORDEREDDICT())\n",
        "You are the manager of a supermarket.\n",
        "You have a list of N items together with their prices that consumers bought on a particular day.\n",
        "Your task is to print each item_name and net_price in order of its first occurrence.\n",
        "\n",
        "item_name = Name of the item.\n",
        "net_price = Quantity of the item sold multiplied by the price of each item."
      ],
      "metadata": {
        "id": "sZtfuIHa8Rs6"
      }
    },
    {
      "cell_type": "code",
      "source": [
        "from collections import OrderedDict\n",
        "od = OrderedDict()\n",
        "for i in range(int(input())):\n",
        "    item_name,blank,price = input().rpartition(' ')\n",
        "    if item_name not in od:\n",
        "        od[item_name] = int(price)\n",
        "    else:\n",
        "        od[item_name] += int(price)\n",
        "        \n",
        "for i in od.items():\n",
        "    print(*i)     "
      ],
      "metadata": {
        "id": "_ssK26mU_977"
      },
      "execution_count": null,
      "outputs": []
    },
    {
      "cell_type": "markdown",
      "source": [
        "Task 3 (Set.add())\n",
        "Apply your knowledge of the .add() operation to help your friend Rupal.\n",
        "\n",
        "Rupal has a huge collection of country stamps. She decided to count the total number of distinct country stamps in her collection. She asked for your help. You pick the stamps one by one from a stack of N  country stamps.\n",
        "\n",
        "Find the total number of distinct country stamps."
      ],
      "metadata": {
        "id": "txAxr-DSABRW"
      }
    },
    {
      "cell_type": "code",
      "source": [
        "n=int(input())\n",
        "set1=set()\n",
        "for i in range(n):\n",
        "    set1.add(input())\n",
        "print(len(set1))    "
      ],
      "metadata": {
        "id": "0xbrqKViKXva"
      },
      "execution_count": null,
      "outputs": []
    },
    {
      "cell_type": "markdown",
      "source": [
        "Task 4 (CHECK SUBSET)\n",
        "You are given two sets, A and B.\n",
        "Your job is to find whether set A is a subset of set B .\n",
        "\n",
        "If set A is subset of set B, print True.\n",
        "If set A is not a subset of set B, print False."
      ],
      "metadata": {
        "id": "VwcoL1CYKb2k"
      }
    },
    {
      "cell_type": "code",
      "source": [
        "for i in range(int(input())): \n",
        "    a = int(input()); A = set(input().split()) \n",
        "    b = int(input()); B = set(input().split())\n",
        "    if(len(A.difference(B))==0):\n",
        "        print(\"True\")\n",
        "    else:\n",
        "        print(\"False\")"
      ],
      "metadata": {
        "id": "rtYZZiYcRWFJ"
      },
      "execution_count": null,
      "outputs": []
    },
    {
      "cell_type": "markdown",
      "source": [
        "Task 5 (set union())\n",
        "The students of District College have subscriptions to English and French newspapers. Some students have subscribed only to English, some have subscribed to only French and some have subscribed to both newspapers.\n",
        "\n",
        "You are given two sets of student roll numbers. One set has subscribed to the English newspaper, and the other set is subscribed to the French newspaper. The same student could be in both sets. Your task is to find the total number of students who have subscribed to at least one newspaper."
      ],
      "metadata": {
        "id": "SsqQR0bQoONL"
      }
    },
    {
      "cell_type": "code",
      "source": [
        "n = int(input())\n",
        "stu1 = set(input().split());\n",
        "m = int(input())\n",
        "stu2 = set(input().split());\n",
        "stu3 = stu1.union(stu2)\n",
        "print(len(stu3))"
      ],
      "metadata": {
        "id": "0mT2KPjHoYjq"
      },
      "execution_count": null,
      "outputs": []
    },
    {
      "cell_type": "markdown",
      "source": [
        "Task 6 (Mod Divmod)\n",
        "Read in two integers, a and b , and print three lines.\n",
        "The first line is the integer division a//b  (While using Python2 remember to import division from __future__).\n",
        "The second line is the result of the modulo operator: a%b .\n",
        "The third line prints the divmod of a and b."
      ],
      "metadata": {
        "id": "PGZYLZxlpPYR"
      }
    },
    {
      "cell_type": "code",
      "source": [
        "a=int(input())\n",
        "b=int(input())\n",
        "print(a//b)\n",
        "print(a%b)\n",
        "print(divmod(a,b))"
      ],
      "metadata": {
        "id": "0k44hAo8k3zc"
      },
      "execution_count": null,
      "outputs": []
    },
    {
      "cell_type": "markdown",
      "source": [
        "Task 7 (Integers come in all sizes)\n",
        "Read four numbers,a,b,c and d, and print the result of a^b+c^d .\n"
      ],
      "metadata": {
        "id": "a3TzFocuk76k"
      }
    },
    {
      "cell_type": "code",
      "source": [
        "a=int(input())\n",
        "b=int(input())\n",
        "c=int(input())\n",
        "d=int(input())\n",
        "\n",
        "print((a**b)+(c**d))"
      ],
      "metadata": {
        "id": "CAh1CiBan2AL"
      },
      "execution_count": null,
      "outputs": []
    },
    {
      "cell_type": "markdown",
      "source": [
        "Task 8 (Power-Mod power)\n",
        "You are given three integers: a,b , and m . Print two lines.\n",
        "On the first line, print the result of pow(a,b). On the second line, print the result of pow(a,b,m)."
      ],
      "metadata": {
        "id": "qrROsCZfn5OJ"
      }
    },
    {
      "cell_type": "code",
      "source": [
        "a = int(input())\n",
        "b = int(input())\n",
        "m = int(input())\n",
        "print(pow(a,b))\n",
        "print(pow(a,b,m))"
      ],
      "metadata": {
        "id": "TAZhbCNIontW"
      },
      "execution_count": null,
      "outputs": []
    },
    {
      "cell_type": "markdown",
      "source": [
        "Task 9 (Map & Lambda function)\n",
        "Apply the map function and a lambda expression to cube each fibonacci number and print the list."
      ],
      "metadata": {
        "id": "ZrSSnz-BovKn"
      }
    },
    {
      "cell_type": "code",
      "source": [
        "cube = lambda x:x**3 # complete the lambda function \n",
        "\n",
        "def fibonacci(n):\n",
        "     n1 = 0\n",
        "     n2 = 1\n",
        "     m = list()\n",
        "     while n > 0:\n",
        "        m.append(n1)\n",
        "        nth = n1+n2\n",
        "        n1 = n2\n",
        "        n2 = nth\n",
        "        n -= 1\n",
        "     return m\n",
        "\n",
        "if __name__ == '__main__':\n",
        "    n = int(input())\n",
        "    print(list(map(cube, fibonacci(n))))"
      ],
      "metadata": {
        "id": "eoW6eYdEr_QF"
      },
      "execution_count": null,
      "outputs": []
    },
    {
      "cell_type": "markdown",
      "source": [
        "Task 10 (Arrays)\n",
        "You are given a space separated list of numbers.\n",
        "Your task is to print a reversed NumPy array with the element type float."
      ],
      "metadata": {
        "id": "lu0tuzKCsFIe"
      }
    },
    {
      "cell_type": "code",
      "source": [
        "import numpy\n",
        "\n",
        "def arrays(arr):\n",
        "    # complete this function\n",
        "    # use numpy.array\n",
        "     return(numpy.array(arr[::-1], float))\n",
        "\n",
        "arr = input().strip().split(' ')\n",
        "result = arrays(arr)\n",
        "print(result)"
      ],
      "metadata": {
        "id": "IzI9P2KEtDoN"
      },
      "execution_count": null,
      "outputs": []
    },
    {
      "cell_type": "markdown",
      "source": [
        "Task 11 (sum and prod)\n",
        "You are given a 2-D array with dimensions NXM.\n",
        "Your task is to perform the sum tool over axis 0 and then find the product  of that result."
      ],
      "metadata": {
        "id": "465U8Yqt4wv5"
      }
    },
    {
      "cell_type": "code",
      "source": [
        "import numpy\n",
        "\n",
        "N,M= map(int, input().split())\n",
        "\n",
        "X = numpy.array([input().split()\n",
        " for _ in range(N)], int)\n",
        "print(numpy.prod(numpy.sum(X, axis=0), axis=0))"
      ],
      "metadata": {
        "id": "o_hK8gr06nEC"
      },
      "execution_count": null,
      "outputs": []
    },
    {
      "cell_type": "markdown",
      "source": [
        "Task 12 (Mean,Var,Std)\n",
        "You are given a 2-D array of size NXM.\n",
        "Your task is to find:\n",
        "\n",
        "1.The mean along axis 1 , \n",
        "2.The var along axis 0 ,\n",
        "3.The std along axis NONE"
      ],
      "metadata": {
        "id": "zi6wtURN6n63"
      }
    },
    {
      "cell_type": "code",
      "source": [
        "import numpy as np\n",
        "\n",
        "\n",
        "n, m = [int(x) for x in input().strip().split()]\n",
        "\n",
        "\n",
        "arr = np.array([[int(x) for x in input().strip().split()] for _ in range(n)])\n",
        "\n",
        "\n",
        "print(np.mean(arr, axis = 1))\n",
        "print(np.var(arr, axis = 0))\n",
        "print(np.round(np.std(arr), decimals = 11))"
      ],
      "metadata": {
        "id": "8rfYrl9A8YQO"
      },
      "execution_count": null,
      "outputs": []
    },
    {
      "cell_type": "markdown",
      "source": [
        "Task 13 (Polynomials)\n",
        "You are given the coefficients of a polynomial P .\n",
        "Your task is to find the value of P at point x ."
      ],
      "metadata": {
        "id": "xE2v4o338nv1"
      }
    },
    {
      "cell_type": "code",
      "source": [
        "import numpy\n",
        "P = [float(x) for x in input().split()]\n",
        "x = float(input())\n",
        "print(numpy.polyval(P, x))"
      ],
      "metadata": {
        "id": "0HIEdiCw9jm-"
      },
      "execution_count": null,
      "outputs": []
    },
    {
      "cell_type": "markdown",
      "source": [
        "Task 14 (Linear Algrbra)\n",
        "You are given a square matrix A with dimensions NXN. Your task is to find the determinant. Note: Round the answer to 2 places after the decimal."
      ],
      "metadata": {
        "id": "Pi2mUF4o9xrt"
      }
    },
    {
      "cell_type": "code",
      "source": [
        "import numpy\n",
        "N = int(input())\n",
        "A = numpy.array([input().split() for _ in range(N)], float)\n",
        "print(round(numpy.linalg.det(A),2))"
      ],
      "metadata": {
        "id": "zl08vpnw-6ZL"
      },
      "execution_count": null,
      "outputs": []
    },
    {
      "cell_type": "markdown",
      "source": [
        "Task 15 (Inner and Outer)\n",
        "\n",
        "You are given two arrays: A and B.\n",
        "Your task is to compute their inner and outer product."
      ],
      "metadata": {
        "id": "VAa_s6R0-9Hr"
      }
    },
    {
      "cell_type": "code",
      "source": [
        "import numpy\n",
        "A = numpy.array(input().split(), int)\n",
        "B = numpy.array(input().split(), int)\n",
        "print(numpy.inner(A, B), numpy.outer(A, B), sep='\\n')"
      ],
      "metadata": {
        "id": "p1nb6KON_qYJ"
      },
      "execution_count": null,
      "outputs": []
    },
    {
      "cell_type": "markdown",
      "source": [
        "Task 16 (Word order)\n",
        "You are given n words. Some words may repeat. For each word, output its number of occurrences. The output order should correspond with the input order of appearance of the word. See the sample input/output for clarification."
      ],
      "metadata": {
        "id": "bOtrd03J_vcy"
      }
    },
    {
      "cell_type": "code",
      "source": [
        "import collections;\n",
        "\n",
        "n = int(input())\n",
        "d = collections.OrderedDict()\n",
        "\n",
        "for i in range(n):\n",
        "    word = input()\n",
        "    if word in d:\n",
        "        d[word] +=1\n",
        "    else:\n",
        "        d[word] = 1\n",
        "\n",
        "print(len(d));\n",
        "for k,v in d.items():\n",
        "    print(v,end = \" \");"
      ],
      "metadata": {
        "id": "GSBguqA-AqmP"
      },
      "execution_count": null,
      "outputs": []
    },
    {
      "cell_type": "markdown",
      "source": [
        "Task 17 (Zeros and Ones)\n",
        "You are given the shape of the array in the form of space-separated integers, each integer representing the size of different dimensions, your task is to print an array of the given shape and integer type using the tools numpy.zeros and numpy.ones."
      ],
      "metadata": {
        "id": "7WFC1g_8BMkC"
      }
    },
    {
      "cell_type": "code",
      "source": [
        "import numpy\n",
        "N = tuple(map(int, input().split()))\n",
        "print(numpy.zeros(N, int))\n",
        "print(numpy.ones(N, int))"
      ],
      "metadata": {
        "id": "gktzaNt2CGiy"
      },
      "execution_count": null,
      "outputs": []
    },
    {
      "cell_type": "markdown",
      "source": [
        "Task 18 (Detect floating point number)\n",
        "You are given a string N.\n",
        "Your task is to verify that N is a floating point number.\n",
        "In this task, a valid float number must satisfy all of the following requirements:\n",
        "Number can start with +, - or . symbol."
      ],
      "metadata": {
        "id": "XjKvk_2PEJBR"
      }
    },
    {
      "cell_type": "code",
      "source": [
        "import re\n",
        "\n",
        "class Main():\n",
        "    def __init__(self):\n",
        "        self.n = int(input())\n",
        "        \n",
        "        for i in range(self.n):\n",
        "            self.s = input()\n",
        "            print(bool(re.match(r'^[-+]?[0-9]*\\.[0-9]+$', self.s)))\n",
        "                    \n",
        "if __name__ == '__main__':\n",
        "    obj = Main()"
      ],
      "metadata": {
        "id": "FuYSmOW4Ebsi"
      },
      "execution_count": null,
      "outputs": []
    },
    {
      "cell_type": "markdown",
      "source": [
        "Task 19 (Shape and Reshape)\n",
        "You are given a space separated list of nine integers. Your task is to convert this list into a 3X3 NumPy array."
      ],
      "metadata": {
        "id": "a7bmpp_jFJCb"
      }
    },
    {
      "cell_type": "code",
      "source": [
        "import numpy\n",
        "\n",
        "print(numpy.array(input().split(), int).reshape(3, 3))"
      ],
      "metadata": {
        "id": "vkmocfRYFWJF"
      },
      "execution_count": null,
      "outputs": []
    },
    {
      "cell_type": "markdown",
      "source": [
        "Task 20 (Transpose and Flatten)\n",
        "\n",
        "You are given a NXM integer array matrix with space separated elements (N = rows and M = columns).\n",
        "Your task is to print the transpose and flatten results."
      ],
      "metadata": {
        "id": "hkRwKreVGPqN"
      }
    },
    {
      "cell_type": "code",
      "source": [
        "import numpy\n",
        "n, m = map(int, input().split())\n",
        "\n",
        "X = numpy.array([input().strip().split() for _ in range(n)], int)\n",
        "print (X.transpose())\n",
        "print (X.flatten())"
      ],
      "metadata": {
        "id": "hFMBjUp7GdEj"
      },
      "execution_count": null,
      "outputs": []
    }
  ]
}