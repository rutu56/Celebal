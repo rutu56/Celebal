{
  "nbformat": 4,
  "nbformat_minor": 0,
  "metadata": {
    "colab": {
      "name": "week3_assign.ipynb",
      "provenance": [],
      "collapsed_sections": [],
      "authorship_tag": "ABX9TyN2ULApWCvLJaDj7yKuEQlb",
      "include_colab_link": true
    },
    "kernelspec": {
      "name": "python3",
      "display_name": "Python 3"
    },
    "language_info": {
      "name": "python"
    }
  },
  "cells": [
    {
      "cell_type": "markdown",
      "metadata": {
        "id": "view-in-github",
        "colab_type": "text"
      },
      "source": [
        "<a href=\"https://colab.research.google.com/github/rutu56/Celebal/blob/main/week3_assign.ipynb\" target=\"_parent\"><img src=\"https://colab.research.google.com/assets/colab-badge.svg\" alt=\"Open In Colab\"/></a>"
      ]
    },
    {
      "cell_type": "code",
      "execution_count": null,
      "metadata": {
        "id": "7O32pbKNqqnM"
      },
      "outputs": [],
      "source": [
        ""
      ]
    },
    {
      "cell_type": "markdown",
      "source": [
        "DATA TYPES IN PYTHON\n",
        "\n",
        "1.Lists:\n",
        "A list is a mutable, or changeable, ordered sequence of elements. Each\n",
        "element or value that is inside of a list is called an item.lists are defined by having values between square brackets [ ].\n",
        "Lists are a very flexible data type because they are mutable in that theycan have values added, removed, and changed.\n",
        "EX: mystr=[4,5,6,7,8,0]\n",
        "\n",
        "2.Tuples:\n",
        "A tuple is used for grouping data. It is an immutable, or unchangeable,\n",
        "ordered sequence of elements.\n",
        "Tuples are very similar to lists, but they use parentheses ( ) instead of\n",
        "square brackets and because they are immutable their values cannot be\n",
        "modified.\n",
        "EX:coral = ('blue coral', 'staghorn coral', 'pillar coral')\n",
        "\n",
        "3.Sets:\n",
        "The sets are unordered  collections of unique elements. The elements in set are stored in { }. Just like tuples sets are unchangeable and unindexed datatype.\n",
        "EX: myset={1,2,3,4,5,6,7}\n",
        "\n",
        "4.Dictionary:\n",
        "Dictionary is an unordered collection of data values, used to store data in key value pair.values in a dictionary can be of any data type & can be duplicated ,whereas  keys can't be repeated & must be immutable.\n",
        "EX: capitals:{\"India\":\"Delhi\",\"France\":\"Paris\",\"Russia\":\"Moscow\"}\n",
        "\n",
        "\n",
        "\n"
      ],
      "metadata": {
        "id": "LyeYZWqcqtFs"
      }
    },
    {
      "cell_type": "code",
      "source": [
        "#LIST METHODS\n",
        "# 1.sort()\n",
        "l1=[1,8,7,2,21,15,-9,-987,67,876,54,12,0,-2 ,-6]\n",
        "l1.sort()\n",
        "print(l1)"
      ],
      "metadata": {
        "id": "Hq9dfgNTyELn"
      },
      "execution_count": null,
      "outputs": []
    },
    {
      "cell_type": "code",
      "source": [
        "# 2.reverse()\n",
        "l1=[1,8,7,2,21,15,-9,-987,67,876,54,12,0,-2 ,-6]\n",
        "l1.reverse()\n",
        "print(l1)"
      ],
      "metadata": {
        "id": "qhkBNvhRyTpZ"
      },
      "execution_count": null,
      "outputs": []
    },
    {
      "cell_type": "code",
      "source": [
        "# 3.append() [adds at end of list]\n",
        "l1=[1,8,7,2,21,15,-9,-987,67,876,54,12,0,-2 ,-6]\n",
        "l1.append(89)\n",
        "l1.append(767)\n",
        "print(l1)"
      ],
      "metadata": {
        "id": "TFmrIBzUyXWM"
      },
      "execution_count": null,
      "outputs": []
    },
    {
      "cell_type": "code",
      "source": [
        "# 4.insert()\n",
        "l1=[1,8,7,2,21,15,-9,-987,67,876,54,12,0,-2 ,-6]\n",
        "l1.insert(0,999)\n",
        "l1.insert(3,555)  #inserts 555 at index 3        \n",
        "print(l1)"
      ],
      "metadata": {
        "id": "t_QR3XQzybiG"
      },
      "execution_count": null,
      "outputs": []
    },
    {
      "cell_type": "code",
      "source": [
        "# 5.pop()\n",
        "l1=[1,8,7,2,21,15,-9,-987,67,876,54,12,0,-2 ,-6]\n",
        "l1.pop(2) # removes number 7 from its index 2\n",
        "print(l1)"
      ],
      "metadata": {
        "id": "MZhgKMpwyepO"
      },
      "execution_count": null,
      "outputs": []
    },
    {
      "cell_type": "code",
      "source": [
        "# 6.remove()\n",
        "l1=[1,8,7,2,21,15,-9,-987,67,876,54,12,0,-2 ,-6]\n",
        "l1.remove(21) # removes number 21 from list\n",
        "print(l1)"
      ],
      "metadata": {
        "id": "gv2ltm0Vyhag"
      },
      "execution_count": null,
      "outputs": []
    },
    {
      "cell_type": "code",
      "source": [
        "\n",
        "#List Slicing\n",
        "frnds = [\"Rutu\",\"Sam\",\"Ruby\",\"Sak\",\"Tia\",\"Isha\",\"Pihu\",\"78\"]\n",
        "print(frnds[0:4])\n",
        "print(frnds[3:])\n",
        "print(frnds[-4:])"
      ],
      "metadata": {
        "id": "1nwXZdlSzLrs"
      },
      "execution_count": null,
      "outputs": []
    },
    {
      "cell_type": "code",
      "source": [
        "#TUPLES METHODS\n",
        "\n",
        "t=(1,3,4,5,2,7.9,8)\n",
        "#t1=(2) #throws error\n",
        "t2=(4,)  #tuple with single element\n",
        "print(t)\n",
        "print(t[3])\n",
        "print(t2)\n"
      ],
      "metadata": {
        "id": "18QyhECMymNb"
      },
      "execution_count": null,
      "outputs": []
    },
    {
      "cell_type": "code",
      "source": [
        "# 1.count()\n",
        "t=(1,2,4,5,4,1,2,5,7,9,8,7,9)\n",
        "print(t.count(4))           #how many times 4 is there in tuple t"
      ],
      "metadata": {
        "id": "iMYuuGX1y2LY"
      },
      "execution_count": null,
      "outputs": []
    },
    {
      "cell_type": "code",
      "source": [
        "# 2.index()\n",
        "t=(1,2,4,5,4,1,2,5,7,9,8,7,9)\n",
        "print(t.index(5)) # gives index number of element 5 in the tuple t"
      ],
      "metadata": {
        "id": "Wmd887VLy5zX"
      },
      "execution_count": null,
      "outputs": []
    },
    {
      "cell_type": "code",
      "source": [
        "#Problems based on list and tuples\n",
        "# 1.write a program to store 7 fruits in a list entered by the user\n",
        "f1=input(\"Enter fruit number 1 :\")\n",
        "f2=input(\"Enter fruit number 2 :\")\n",
        "f3=input(\"Enter fruit number 3 :\")\n",
        "f4=input(\"Enter fruit number 4 :\")\n",
        "f5=input(\"Enter fruit number 5 :\")\n",
        "f6=input(\"Enter fruit number 6 :\")\n",
        "f7=input(\"Enter fruit number 7 :\")\n",
        "\n",
        "myfruitlist=[f1,f2,f3,f4,f5,f6,f7]\n",
        "print(myfruitlist)\n"
      ],
      "metadata": {
        "id": "n9RLWV4fy825"
      },
      "execution_count": null,
      "outputs": []
    },
    {
      "cell_type": "code",
      "source": [
        "# 2.write a program to accept marks of 6 students and display them in a sorted manner\n",
        "m1=input(int(\"Enter marks of student 1 :\"))\n",
        "m2=input(int(\"Enter marks of student 2 :\"))\n",
        "m3=input(int(\"Enter marks of student 3 :\"))\n",
        "m4=input(int(\"Enter marks of student 4 :\"))\n",
        "m5=input(int(\"Enter marks of student 5 :\"))\n",
        "m6=input(int(\"Enter marks of student 6 :\"))\n",
        "\n",
        "mylist = [m1,m2,m3,m4,m5,m6]\n",
        "mylist.sort()\n",
        "print(mylist)"
      ],
      "metadata": {
        "id": "DvlEvojCzcOM"
      },
      "execution_count": null,
      "outputs": []
    },
    {
      "cell_type": "code",
      "source": [
        "#Problems on Dictionary and Sets.\n",
        "#DICTIONARY\n",
        "\n",
        "mydict={\"Fast\":\"In a quick manner\",\"Riya\":\"A Coder\",\"Marks\":\"[2,3,4,56]\",\"anotherdict\":{'Sam':'player'}}\n",
        "print(mydict['Fast'])\n",
        "print(mydict['Riya'])\n",
        "print(mydict['Marks'])\n",
        "print(mydict['anotherdict']['Sam'])"
      ],
      "metadata": {
        "id": "zLaQFlMk0ilf"
      },
      "execution_count": null,
      "outputs": []
    },
    {
      "cell_type": "code",
      "source": [
        "#Dictionary methods\n",
        "\n",
        "# 1.keys()           2.value()          3.items()        4.update()\n",
        "\n",
        "mydict={\"Fast\":\"In a quick manner\",\"Riya\":\"A Coder\",\"Marks\":\"[2,3,4,56]\",\"anotherdict\":{'Sam':'player'}}\n",
        "\n",
        "print(list(mydict.keys()))\n",
        "\n",
        "print(list(mydict.values()))\n",
        "\n",
        "print(list(mydict.items()))\n",
        "\n",
        "print(mydict)\n",
        "\n",
        "updic={\"Lavish\":\"Friend\",\"Hiee\":\"Bye\",\"Riya\":\"Dancer\"} # updates previous values also...\n",
        "\n",
        "mydict.update(updic)\n",
        "\n",
        "print(mydict)"
      ],
      "metadata": {
        "colab": {
          "base_uri": "https://localhost:8080/"
        },
        "id": "sVJ5wGXX0vAf",
        "outputId": "472c8cde-22f0-47c2-d046-6bbda780c1f1"
      },
      "execution_count": 1,
      "outputs": [
        {
          "output_type": "stream",
          "name": "stdout",
          "text": [
            "['Fast', 'Riya', 'Marks', 'anotherdict']\n",
            "['In a quick manner', 'A Coder', '[2,3,4,56]', {'Sam': 'player'}]\n",
            "[('Fast', 'In a quick manner'), ('Riya', 'A Coder'), ('Marks', '[2,3,4,56]'), ('anotherdict', {'Sam': 'player'})]\n",
            "{'Fast': 'In a quick manner', 'Riya': 'A Coder', 'Marks': '[2,3,4,56]', 'anotherdict': {'Sam': 'player'}}\n",
            "{'Fast': 'In a quick manner', 'Riya': 'Dancer', 'Marks': '[2,3,4,56]', 'anotherdict': {'Sam': 'player'}, 'Lavish': 'Friend', 'Hiee': 'Bye'}\n"
          ]
        }
      ]
    },
    {
      "cell_type": "code",
      "source": [
        "# 5.get()\n",
        "mydict={\"Fast\":\"In a quick manner\",\"Riya\":\"A Coder\",\"Marks\":\"[2,3,4,56]\",\"anotherdict\":{'Sam':'player'}}\n",
        "\n",
        "print(mydict.get(\"Riya\"))      # returns value associated with key Riya\n",
        "\n",
        "print(mydict.get(\"Riya2\"))     # returns none as Riya 2 is not present in dict\n",
        "\n",
        "#print(mydict[]\"Riya2\"])        # throws error as Riya 2 is not present in dict"
      ],
      "metadata": {
        "id": "KjKMf7SN1Du1"
      },
      "execution_count": null,
      "outputs": []
    },
    {
      "cell_type": "code",
      "source": [
        "#SETS\n",
        "\n",
        "a = {0}      #empty set\n",
        "b = set()\n",
        "print(b)\n",
        "print(a)\n",
        "print(type(b))\n",
        "print(type(a))"
      ],
      "metadata": {
        "id": "SXu33Hw51KxI"
      },
      "execution_count": null,
      "outputs": []
    },
    {
      "cell_type": "code",
      "source": [
        "# SET METHODS\n",
        "# 1.add()\n",
        "\n",
        "b = set()\n",
        "b.add(3)\n",
        "b.add(7)\n",
        "b.add(8)\n",
        "b.add(3)\n",
        "#b.add([4,5,6,7])     # we cannot add list & dictionary in set bcz both are mutable or non-hashable \n",
        "b.add((2,3,7,5,8))    # we can add tuple in set \n",
        "\n",
        "print(b)"
      ],
      "metadata": {
        "id": "ijESouja1SDv"
      },
      "execution_count": null,
      "outputs": []
    },
    {
      "cell_type": "code",
      "source": [
        "# 2.len()\n",
        "b = set()\n",
        "b.add(3)\n",
        "b.add(7)\n",
        "b.add(8)\n",
        "b.add(3)\n",
        "b.add((2,3,7,5,8))   \n",
        "\n",
        "print(len(b))           #prints length of set\n",
        "\n",
        "print(b)"
      ],
      "metadata": {
        "id": "AQnyK6--1bjl"
      },
      "execution_count": null,
      "outputs": []
    },
    {
      "cell_type": "code",
      "source": [
        "# pop() removes arbitrary element from set & returns the element removed\n",
        "\n",
        "b = set()\n",
        "b.add(3)\n",
        "b.add(7)\n",
        "b.add(8)\n",
        "b.add(3)\n",
        "b.add((2,3,7,5,8))   \n",
        "print(b.pop())\n",
        "\n",
        "print(b)"
      ],
      "metadata": {
        "id": "_BL5WgDd1fjf"
      },
      "execution_count": null,
      "outputs": []
    },
    {
      "cell_type": "code",
      "source": [
        "# problem 1: can we have 18 int and \"18\" string as a values in it\n",
        "s={18,\"18\",18.1,789,789,9,78}\n",
        "print(s)"
      ],
      "metadata": {
        "id": "M7j4abPi1lHD"
      },
      "execution_count": null,
      "outputs": []
    },
    {
      "cell_type": "code",
      "source": [
        "# problem 2 what will be length of following set s\n",
        "s=set()\n",
        "s.add(20)            # as 20 & 20.0 are equal therefore they are counted as one\n",
        "s.add(20.0)\n",
        "s.add(\"20\")          # here 20 is string\n",
        "print(s)\n",
        "print(len(s))"
      ],
      "metadata": {
        "id": "mr720Sgz1vre"
      },
      "execution_count": null,
      "outputs": []
    }
  ]
}